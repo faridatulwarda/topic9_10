{
  "cells": [
    {
      "cell_type": "code",
      "execution_count": 5,
      "id": "9a3fded2-9765-481f-af12-75098150b6f1",
      "metadata": {
        "id": "9a3fded2-9765-481f-af12-75098150b6f1"
      },
      "outputs": [],
      "source": [
        "import scipy.stats as stats\n",
        "import pandas as pd\n",
        "import numpy as np"
      ]
    },
    {
      "cell_type": "code",
      "execution_count": 6,
      "id": "850668e6-120e-4a34-bd5b-e3619303bca6",
      "metadata": {
        "id": "850668e6-120e-4a34-bd5b-e3619303bca6"
      },
      "outputs": [],
      "source": [
        "data = [100, 150, 50, 100, 130, 120,100, 110, 75, 65, 150, 120, 50, 100, 100, 140, 90, 150, 50, 90]"
      ]
    },
    {
      "cell_type": "code",
      "execution_count": 7,
      "id": "e4a2bdef-71e7-4dce-81b9-0d9b9eba3348",
      "metadata": {
        "colab": {
          "base_uri": "https://localhost:8080/"
        },
        "id": "e4a2bdef-71e7-4dce-81b9-0d9b9eba3348",
        "outputId": "d74e8795-c6a6-4d93-cf2e-14a54f72e5da"
      },
      "outputs": [
        {
          "output_type": "stream",
          "name": "stdout",
          "text": [
            "[100, 150, 50, 100, 130, 120, 100, 110, 75, 65, 150, 120, 50, 100, 100, 140, 90, 150, 50, 90]\n"
          ]
        }
      ],
      "source": [
        "print(data)"
      ]
    },
    {
      "cell_type": "code",
      "execution_count": 8,
      "id": "dcd2d9bd-9a87-4220-aee4-a7482b26b730",
      "metadata": {
        "colab": {
          "base_uri": "https://localhost:8080/"
        },
        "id": "dcd2d9bd-9a87-4220-aee4-a7482b26b730",
        "outputId": "0ce68e3b-966e-4668-8ca8-b9643faf3458"
      },
      "outputs": [
        {
          "output_type": "execute_result",
          "data": {
            "text/plain": [
              "Ttest_1sampResult(statistic=0.2731657711666385, pvalue=0.787672894169515)"
            ]
          },
          "metadata": {},
          "execution_count": 8
        }
      ],
      "source": [
        "#perform one sample t-test\n",
        "\n",
        "stats.ttest_1samp(a=data, popmean=100)"
      ]
    },
    {
      "cell_type": "code",
      "execution_count": 18,
      "metadata": {
        "colab": {
          "base_uri": "https://localhost:8080/",
          "height": 282
        },
        "id": "535527b5-80bc-4580-b9b9-2e4819159dc7",
        "outputId": "229c7bf6-c870-40a5-d096-1ef1a4ccca48"
      },
      "outputs": [
        {
          "output_type": "execute_result",
          "data": {
            "text/plain": [
              "<matplotlib.axes._subplots.AxesSubplot at 0x7efd40492d50>"
            ]
          },
          "metadata": {},
          "execution_count": 18
        },
        {
          "output_type": "display_data",
          "data": {
            "text/plain": [
              "<Figure size 432x288 with 1 Axes>"
            ],
            "image/png": "[encoded data removed]"
          },
          "metadata": {
            "needs_background": "light"
          }
        }
      ],
      "source": [
        "import seaborn as sns\n",
        "x = stats.t(data)\n",
        "sns.kdeplot(data)"
      ],
      "id": "535527b5-80bc-4580-b9b9-2e4819159dc7"
    },
    {
      "cell_type": "markdown",
      "source": [
        "**t-statistic**= 0.2731657711666385, **pvalue** =0.787672894169515\n",
        "\n",
        "For two tailed test:\n",
        "If using alpha = 0.05, then the concolusion is P-value larger than alpha, meaning we fail to reject H0.\n",
        "\n",
        "**Conclusion: The mean is equal to 100**\n",
        "\n",
        "\n",
        "\n"
      ],
      "metadata": {
        "id": "XLhvXwa13b4t"
      },
      "id": "XLhvXwa13b4t"
    },
    {
      "cell_type": "code",
      "execution_count": 17,
      "id": "cb45a418-3b8b-4b28-9783-27555a2cb1c3",
      "metadata": {
        "colab": {
          "base_uri": "https://localhost:8080/"
        },
        "id": "cb45a418-3b8b-4b28-9783-27555a2cb1c3",
        "outputId": "4606bb28-d437-4985-85cf-898f2491c505"
      },
      "outputs": [
        {
          "output_type": "execute_result",
          "data": {
            "text/plain": [
              "2.093024054408263"
            ]
          },
          "metadata": {},
          "execution_count": 17
        }
      ],
      "source": [
        "#we can also compare by looking for the critical value\n",
        "#If using t statistic, we have to find the critical region first:\n",
        "stats.t.ppf(1-(0.05/2), 19)"
      ]
    },
    {
      "cell_type": "code",
      "execution_count": null,
      "id": "f8e958b3-66c3-4184-9508-4fa23b4ccfba",
      "metadata": {
        "id": "f8e958b3-66c3-4184-9508-4fa23b4ccfba"
      },
      "outputs": [],
      "source": [
        "# Critical Region: t < - 2.09 or t > 2.09\n",
        "# t-statistic=0.2731657711666385\n",
        "# As t statistic is in the critical region, then we fail to reject H0\n",
        "# Conclusion: The mean is equal to 100"
      ]
    },
    {
      "cell_type": "code",
      "execution_count": null,
      "id": "8c9ba2e2-46b7-41b4-8e75-29c2f191c0b8",
      "metadata": {
        "id": "8c9ba2e2-46b7-41b4-8e75-29c2f191c0b8"
      },
      "outputs": [],
      "source": [
        "#For One tailed test:"
      ]
    },
    {
      "cell_type": "code",
      "execution_count": 10,
      "id": "09efd6a6-ea69-4d0f-98d1-0286417059a6",
      "metadata": {
        "colab": {
          "base_uri": "https://localhost:8080/"
        },
        "id": "09efd6a6-ea69-4d0f-98d1-0286417059a6",
        "outputId": "2e6bfb0c-180c-42c7-826c-f1d0df85437a"
      },
      "outputs": [
        {
          "output_type": "execute_result",
          "data": {
            "text/plain": [
              "0.3938364470847575"
            ]
          },
          "metadata": {},
          "execution_count": 10
        }
      ],
      "source": [
        "0.787672894169515/2  #pvalue/2"
      ]
    },
    {
      "cell_type": "code",
      "execution_count": null,
      "id": "003d71ad-f137-4bb5-8317-2a101be54234",
      "metadata": {
        "id": "003d71ad-f137-4bb5-8317-2a101be54234"
      },
      "outputs": [],
      "source": [
        "#If using alpha = 0.05, use P-value/2 = 0.39. The concolusion is P-value/2 larger than alpha, meaning we fail to reject H0\n",
        "#Conclusion: The mean is equal to 100\n",
        "\n",
        "#If using t statistic, we have to find the critical region first:"
      ]
    },
    {
      "cell_type": "code",
      "execution_count": 12,
      "id": "ef739f6c-1fdc-4c3f-bf0d-0cdecbe98b7b",
      "metadata": {
        "colab": {
          "base_uri": "https://localhost:8080/"
        },
        "id": "ef739f6c-1fdc-4c3f-bf0d-0cdecbe98b7b",
        "outputId": "7a5fa2eb-33bc-444d-a150-67cc19fe784c"
      },
      "outputs": [
        {
          "output_type": "execute_result",
          "data": {
            "text/plain": [
              "1.729132811521367"
            ]
          },
          "metadata": {},
          "execution_count": 12
        }
      ],
      "source": [
        "# If H1: mean > 100 (right side)\n",
        "stats.t.ppf(1-0.05, 19)"
      ]
    },
    {
      "cell_type": "code",
      "execution_count": 13,
      "id": "8f657c7b-3e5f-4549-8524-d20895d799e5",
      "metadata": {
        "id": "8f657c7b-3e5f-4549-8524-d20895d799e5"
      },
      "outputs": [],
      "source": [
        "# Critical Region: t > 1.73\n",
        "# t-statistic=0.2731657711666385\n",
        "# As t statistic is not in the critical region, then we fail to reject H0\n",
        "# Conclusion: The mean is equal to 100"
      ]
    },
    {
      "cell_type": "code",
      "execution_count": 14,
      "id": "7020b9b1-7558-4709-8904-cf878c84faac",
      "metadata": {
        "colab": {
          "base_uri": "https://localhost:8080/"
        },
        "id": "7020b9b1-7558-4709-8904-cf878c84faac",
        "outputId": "6214e067-abc5-46c7-e4ea-3f3c26ba8c95"
      },
      "outputs": [
        {
          "output_type": "execute_result",
          "data": {
            "text/plain": [
              "-1.7291328115213678"
            ]
          },
          "metadata": {},
          "execution_count": 14
        }
      ],
      "source": [
        "# If H1: mean < 100 (left side)\n",
        "stats.t.ppf(0.05, 19)"
      ]
    },
    {
      "cell_type": "code",
      "execution_count": 15,
      "id": "9d16075a-28ac-49ac-8a28-f99214d0af66",
      "metadata": {
        "id": "9d16075a-28ac-49ac-8a28-f99214d0af66"
      },
      "outputs": [],
      "source": [
        "# Critical Region: t < -1.72\n",
        "# As t statistic is not in the critical region, then we fail to reject H0\n",
        "#Conclusion: The mean is equal to 100"
      ]
    }
  ],
  "metadata": {
    "kernelspec": {
      "display_name": "Python 3",
      "language": "python",
      "name": "python3"
    },
    "language_info": {
      "codemirror_mode": {
        "name": "ipython",
        "version": 3
      },
      "file_extension": ".py",
      "mimetype": "text/x-python",
      "name": "python",
      "nbconvert_exporter": "python",
      "pygments_lexer": "ipython3",
      "version": "3.8.8"
    },
    "colab": {
      "provenance": [],
      "collapsed_sections": []
    }
  },
  "nbformat": 4,
  "nbformat_minor": 5
}